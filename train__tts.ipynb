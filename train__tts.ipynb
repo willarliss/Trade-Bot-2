{
 "cells": [
  {
   "cell_type": "code",
   "execution_count": 1,
   "metadata": {},
   "outputs": [],
   "source": [
    "import os\n",
    "import time\n",
    "import collections"
   ]
  },
  {
   "cell_type": "code",
   "execution_count": 2,
   "metadata": {},
   "outputs": [],
   "source": [
    "import torch\n",
    "import numpy as np\n",
    "import pandas as pd\n",
    "import matplotlib.pyplot as plt\n",
    "from IPython.display import clear_output\n",
    "from sklearn.linear_model import LinearRegression"
   ]
  },
  {
   "cell_type": "code",
   "execution_count": 3,
   "metadata": {},
   "outputs": [],
   "source": [
    "from utils.envs import TradingEnv9\n",
    "from utils.td3 import Agent, DropoutAgent\n",
    "from utils.pred import Predictor, DropoutPredictor\n",
    "from utils.utilities import fetch_data, live_plot, get_indices"
   ]
  },
  {
   "cell_type": "code",
   "execution_count": 4,
   "metadata": {},
   "outputs": [],
   "source": [
    "from utils.env_norm import TradingEnvNorm"
   ]
  },
  {
   "cell_type": "code",
   "execution_count": 5,
   "metadata": {},
   "outputs": [],
   "source": [
    "import warnings\n",
    "\n",
    "warnings.simplefilter('ignore')"
   ]
  },
  {
   "cell_type": "code",
   "execution_count": 6,
   "metadata": {},
   "outputs": [],
   "source": [
    "%matplotlib inline"
   ]
  },
  {
   "cell_type": "markdown",
   "metadata": {},
   "source": [
    "---"
   ]
  },
  {
   "cell_type": "code",
   "execution_count": 7,
   "metadata": {},
   "outputs": [],
   "source": [
    "REPORT = 100\n",
    "SEED = 42"
   ]
  },
  {
   "cell_type": "code",
   "execution_count": 8,
   "metadata": {},
   "outputs": [],
   "source": [
    "#env_name = 'TradingEnv9'\n",
    "env_name = 'TradingEnvNorm'\n",
    "db_name = './data/HistoricalPriceData.db'"
   ]
  },
  {
   "cell_type": "code",
   "execution_count": 9,
   "metadata": {},
   "outputs": [],
   "source": [
    "torch.manual_seed(SEED)\n",
    "np.random.seed(SEED)"
   ]
  },
  {
   "cell_type": "code",
   "execution_count": 10,
   "metadata": {
    "id": "ZOSuBYdsqVMX"
   },
   "outputs": [],
   "source": [
    "if not os.path.exists('./models'):\n",
    "    os.makedirs('./models')\n",
    "if not os.path.exists('./models/all_td3'):\n",
    "    os.makedirs('./models/all_td3')"
   ]
  },
  {
   "cell_type": "code",
   "execution_count": 11,
   "metadata": {
    "colab": {
     "base_uri": "https://localhost:8080/"
    },
    "id": "OAs1OaNYp5ht",
    "outputId": "d22ab539-f287-4856-c7a9-f627db21d77d"
   },
   "outputs": [
    {
     "name": "stdout",
     "output_type": "stream",
     "text": [
      "TD3_TradingEnvNorm_tts_42\n"
     ]
    }
   ],
   "source": [
    "file_name = f'TD3_{env_name}_tts_{SEED}'\n",
    "print(file_name)"
   ]
  },
  {
   "cell_type": "markdown",
   "metadata": {},
   "source": [
    "---"
   ]
  },
  {
   "cell_type": "code",
   "execution_count": 12,
   "metadata": {},
   "outputs": [
    {
     "data": {
      "text/plain": [
       "(800, 600, 200)"
      ]
     },
     "execution_count": 12,
     "metadata": {},
     "output_type": "execute_result"
    }
   ],
   "source": [
    "data = fetch_data(db_name)\n",
    "\n",
    "idx = 500\n",
    "size = 800\n",
    "tts = 0.75\n",
    "split = int(tts*size)\n",
    "\n",
    "size, split, size-split"
   ]
  },
  {
   "cell_type": "code",
   "execution_count": 13,
   "metadata": {},
   "outputs": [
    {
     "data": {
      "text/plain": [
       "{800}"
      ]
     },
     "execution_count": 13,
     "metadata": {},
     "output_type": "execute_result"
    }
   ],
   "source": [
    "for ticker in data:    \n",
    "    \n",
    "    data[ticker] = (data[ticker]\n",
    "        .iloc[idx: idx+size]\n",
    "        .reset_index(drop=True, inplace=False)\n",
    "    )\n",
    "    \n",
    "set(df.shape[0] for df in data.values())\n"
   ]
  },
  {
   "cell_type": "markdown",
   "metadata": {},
   "source": [
    "##### Create training set"
   ]
  },
  {
   "cell_type": "code",
   "execution_count": 14,
   "metadata": {},
   "outputs": [
    {
     "data": {
      "text/plain": [
       "{600}"
      ]
     },
     "execution_count": 14,
     "metadata": {},
     "output_type": "execute_result"
    }
   ],
   "source": [
    "train_dta = {}\n",
    "\n",
    "for ticker in data:    \n",
    "    \n",
    "    train_dta[ticker] = (data[ticker]\n",
    "        .iloc[:split]\n",
    "        .reset_index(drop=True, inplace=False)\n",
    "    )\n",
    "\n",
    "set(df.shape[0] for df in train_dta.values())\n"
   ]
  },
  {
   "cell_type": "markdown",
   "metadata": {},
   "source": [
    "##### Create testing set"
   ]
  },
  {
   "cell_type": "code",
   "execution_count": 15,
   "metadata": {},
   "outputs": [
    {
     "data": {
      "text/plain": [
       "{200}"
      ]
     },
     "execution_count": 15,
     "metadata": {},
     "output_type": "execute_result"
    }
   ],
   "source": [
    "test_dta = {}\n",
    "\n",
    "for ticker in data:    \n",
    "\n",
    "    test_dta[ticker] = (data[ticker]\n",
    "        .iloc[split:]\n",
    "        .reset_index(drop=True, inplace=False)\n",
    "    )\n",
    "    \n",
    "set(df.shape[0] for df in test_dta.values())\n"
   ]
  },
  {
   "cell_type": "markdown",
   "metadata": {},
   "source": [
    "---\n",
    "---\n",
    "---"
   ]
  },
  {
   "cell_type": "markdown",
   "metadata": {},
   "source": [
    "### Train:"
   ]
  },
  {
   "cell_type": "markdown",
   "metadata": {
    "id": "snfGHM_8rAnv"
   },
   "source": [
    "##### Initialize environment"
   ]
  },
  {
   "cell_type": "code",
   "execution_count": 16,
   "metadata": {
    "colab": {
     "base_uri": "https://localhost:8080/"
    },
    "id": "S-xn7OWBrPP8",
    "outputId": "ac94c862-ca63-4ff6-c338-f4f65a4c91b2"
   },
   "outputs": [],
   "source": [
    "env = eval(f'{env_name}(train_dta)')\n",
    "env.seed(SEED)"
   ]
  },
  {
   "cell_type": "code",
   "execution_count": 17,
   "metadata": {},
   "outputs": [],
   "source": [
    "state_dim = np.prod(env.observation_space.shape)\n",
    "action_dim = env.action_space.shape[0]\n",
    "max_action = float(env.action_space.high[0])"
   ]
  },
  {
   "cell_type": "markdown",
   "metadata": {},
   "source": [
    "##### Initialize agent parameters"
   ]
  },
  {
   "cell_type": "code",
   "execution_count": 18,
   "metadata": {},
   "outputs": [],
   "source": [
    "buffer_size = 1e6\n",
    "batch_size = 100\n",
    "\n",
    "gamma = 0.99\n",
    "tau = 5e-3\n",
    "policy_freq = 2\n",
    "lr = 1e-3\n",
    "reg = 0 # 1e-3\n",
    "\n",
    "policy_noise = 0.2\n",
    "noise_clip = 0.5\n",
    "expl_noise = 0.15"
   ]
  },
  {
   "cell_type": "markdown",
   "metadata": {},
   "source": [
    "##### Initialize agent"
   ]
  },
  {
   "cell_type": "code",
   "execution_count": 19,
   "metadata": {},
   "outputs": [],
   "source": [
    "# Observation space dimension must be modified to include predictor input\n",
    "agent_state_dim = env.observation_space.shape[0] * (env.observation_space.shape[1]+1)"
   ]
  },
  {
   "cell_type": "code",
   "execution_count": 20,
   "metadata": {
    "colab": {
     "base_uri": "https://localhost:8080/"
    },
    "id": "zaaTcOGKsLyh",
    "outputId": "53a75b83-e251-496b-c21e-64c7d45fd8f0"
   },
   "outputs": [],
   "source": [
    "#agent = Agent(\n",
    "agent = DropoutAgent(\n",
    "    state_dim=agent_state_dim, \n",
    "    action_dim=action_dim, \n",
    "    max_action=max_action,\n",
    "    eta=lr,\n",
    "    alpha=reg,\n",
    ")\n"
   ]
  },
  {
   "cell_type": "markdown",
   "metadata": {},
   "source": [
    "##### Initialize predictor model"
   ]
  },
  {
   "cell_type": "code",
   "execution_count": 21,
   "metadata": {},
   "outputs": [],
   "source": [
    "# Predictor only takes certain parts of the observation space as input  \n",
    "pred_input = (env.observation_space.shape[0]-1) * (env.observation_space.shape[1]-2)\n",
    "pred_output = env.action_space.shape[0] - 1"
   ]
  },
  {
   "cell_type": "code",
   "execution_count": 22,
   "metadata": {},
   "outputs": [],
   "source": [
    "#predictor = Predictor(\n",
    "predictor = DropoutPredictor(\n",
    "    input_dim=pred_input, \n",
    "    output_dim=pred_output,\n",
    "    eta=lr,\n",
    "    alpha=reg,\n",
    ")\n"
   ]
  },
  {
   "cell_type": "markdown",
   "metadata": {},
   "source": [
    "---"
   ]
  },
  {
   "cell_type": "markdown",
   "metadata": {
    "id": "VXNQHlxItDHz"
   },
   "source": [
    "##### Initialize training variables "
   ]
  },
  {
   "cell_type": "code",
   "execution_count": 23,
   "metadata": {},
   "outputs": [],
   "source": [
    "starting_step = 4e4 # Number of random steps at start\n",
    "\n",
    "episodes = 3e3 # Number of episodes to train on\n",
    "total_steps = 0 # Total steps taken so far\n",
    "training = False # Currently training"
   ]
  },
  {
   "cell_type": "code",
   "execution_count": 24,
   "metadata": {},
   "outputs": [],
   "source": [
    "positions = env.positions\n",
    "reward_trace = collections.defaultdict(list)\n",
    "ep = 1 # Starting episode"
   ]
  },
  {
   "cell_type": "code",
   "execution_count": 25,
   "metadata": {},
   "outputs": [],
   "source": [
    "size = 250 # How long each episode is\n",
    "n_obs = env.n_obs"
   ]
  },
  {
   "cell_type": "code",
   "execution_count": 26,
   "metadata": {},
   "outputs": [
    {
     "data": {
      "text/plain": [
       "(1, 349, 3000)"
      ]
     },
     "execution_count": 26,
     "metadata": {},
     "output_type": "execute_result"
    }
   ],
   "source": [
    "# A distribution of indices is built and drawn from\n",
    "indices = get_indices(episodes, 1, 349)\n",
    "indices.min(), indices.max(), indices.shape[0]"
   ]
  },
  {
   "cell_type": "markdown",
   "metadata": {},
   "source": [
    "##### Training:"
   ]
  },
  {
   "cell_type": "code",
   "execution_count": null,
   "metadata": {},
   "outputs": [
    {
     "data": {
      "image/png": "[encoded data removed]",
      "text/plain": [
       "<Figure size 1080x360 with 1 Axes>"
      ]
     },
     "metadata": {
      "needs_background": "light"
     },
     "output_type": "display_data"
    },
    {
     "name": "stdout",
     "output_type": "stream",
     "text": [
      "Episode number: 21\n",
      "Initial index: 219\n"
     ]
    }
   ],
   "source": [
    "for ep in np.arange(ep, episodes+1):    \n",
    "    \n",
    "    idx = indices[int(ep)-1]\n",
    "    print('Episode number:', int(ep))\n",
    "    print('Initial index:', idx)\n",
    "    \n",
    "    env.reset()\n",
    "    env.current_step = idx - 1\n",
    "    obs = env._next_observation()\n",
    "    \n",
    "    done = False\n",
    "    episode_reward = []\n",
    "    steps = 0\n",
    "    \n",
    "    ##################################################\n",
    "    \n",
    "    while not done:    \n",
    "        \n",
    "        agent_obs = predictor.predict(obs)\n",
    "        \n",
    "        if total_steps == starting_step:\n",
    "            print('Begin training')\n",
    "            training = True\n",
    "            \n",
    "        if not training:\n",
    "            action = env.action_space.sample()\n",
    "        else:\n",
    "            action = agent.select_action(agent_obs)\n",
    "            \n",
    "            if expl_noise != 0:\n",
    "                noise = np.random.normal(0, expl_noise, size=env.action_space.shape[0])\n",
    "                action = (action+noise).clip(env.action_space.low, env.action_space.high)\n",
    "                \n",
    "        action_fmt = env.format_action(positions, action)\n",
    "                \n",
    "        new_obs, reward, done, info = env.step(action_fmt)\n",
    "        done |= (steps >= size-1)\n",
    "        \n",
    "        episode_reward.append(reward)\n",
    "        predictor.commit(obs, new_obs)        \n",
    "        \n",
    "        agent_new_obs = predictor.predict(new_obs)\n",
    "        agent.replay_buffer.add((agent_obs, agent_new_obs, action, reward, int(done)))\n",
    "                \n",
    "        obs = new_obs\n",
    "        steps += 1\n",
    "        total_steps += 1\n",
    "        \n",
    "    ##################################################\n",
    "        \n",
    "    agent.train(steps, batch_size, gamma, tau, policy_noise, noise_clip, policy_freq)\n",
    "    predictor.train(batch_size)\n",
    "    \n",
    "    reward_trace['net_worth_diff'].append(sum(np.array(env.net_worth)-np.array(env.net_worth_long)))\n",
    "    reward_trace['avg_episode_reward'].append(np.mean(episode_reward))\n",
    "    reward_trace['sum_episode_reward'].append(sum(episode_reward))\n",
    "    reward_trace['exploration_noise'].append(round(expl_noise, 9))\n",
    "    \n",
    "    ax = live_plot(reward_trace, trace='avg')\n",
    "    plt.ylim([-5, 10])\n",
    "    plt.show()\n",
    "    \n",
    "    if ep % REPORT == 0:\n",
    "        \n",
    "        print('Episode number:', int(ep))\n",
    "        print('Net-worth difference:', reward_trace['net_worth_diff'][-1])\n",
    "        print('Average reward:', reward_trace['avg_episode_reward'][-1])\n",
    "        time.sleep(0.5)\n",
    "        \n",
    "        agent.save(\n",
    "            f'{file_name}_{int(ep)}', \n",
    "            './models/all_td3',\n",
    "        )\n",
    "        \n",
    "        predictor.save(\n",
    "            f'{file_name}_{int(ep)}', \n",
    "            './models/all_td3',\n",
    "        )\n",
    "        "
   ]
  },
  {
   "cell_type": "code",
   "execution_count": null,
   "metadata": {},
   "outputs": [],
   "source": [
    "ep"
   ]
  },
  {
   "cell_type": "markdown",
   "metadata": {},
   "source": [
    "##### Plot reward trace"
   ]
  },
  {
   "cell_type": "code",
   "execution_count": null,
   "metadata": {},
   "outputs": [],
   "source": [
    "nwd = pd.Series(reward_trace['net_worth_diff'])\n",
    "nwd = nwd.rolling(window=REPORT, center=True, min_periods=1).mean()\n",
    "\n",
    "print(np.argmax(nwd)+1, np.argmax(reward_trace['net_worth_diff'])+1)"
   ]
  },
  {
   "cell_type": "code",
   "execution_count": null,
   "metadata": {},
   "outputs": [],
   "source": [
    "plt.figure(figsize=(15,5))\n",
    "\n",
    "plt.plot(reward_trace['net_worth_diff'], 'b', alpha=0.7)\n",
    "plt.plot(nwd, 'b')\n",
    "plt.axvline(1100, c='r')\n",
    "\n",
    "plt.show()"
   ]
  },
  {
   "cell_type": "code",
   "execution_count": null,
   "metadata": {},
   "outputs": [],
   "source": [
    "lr = LinearRegression()\n",
    "\n",
    "X = np.arange(1, len(reward_trace['avg_episode_reward'])+1).reshape(-1,1)\n",
    "y = np.array(reward_trace['avg_episode_reward']).reshape(-1,1)\n",
    "\n",
    "lr.fit(X, y)\n",
    "\n",
    "def f(x): return lr.intercept_[0] + np.dot(x.reshape(-1,1), lr.coef_)\n",
    "print(lr.coef_[0])"
   ]
  },
  {
   "cell_type": "code",
   "execution_count": null,
   "metadata": {},
   "outputs": [],
   "source": [
    "plt.figure(figsize=(15,5))\n",
    "\n",
    "plt.plot(reward_trace['avg_episode_reward'], 'b')\n",
    "plt.plot(f(np.arange(len(reward_trace['avg_episode_reward']))), '--r', alpha=0.7)\n",
    "plt.axvline(1100, c='r')\n",
    "\n",
    "plt.ylim([-5,10])\n",
    "plt.show()"
   ]
  },
  {
   "cell_type": "code",
   "execution_count": null,
   "metadata": {},
   "outputs": [],
   "source": [
    "plt.figure(figsize=(15,5))\n",
    "\n",
    "plt.plot(reward_trace['sum_episode_reward'], 'b')\n",
    "plt.axvline(1100, c='r')\n",
    "\n",
    "plt.show()"
   ]
  },
  {
   "cell_type": "markdown",
   "metadata": {},
   "source": [
    "---\n",
    "---\n",
    "---"
   ]
  },
  {
   "cell_type": "markdown",
   "metadata": {},
   "source": [
    "### Test:"
   ]
  },
  {
   "cell_type": "markdown",
   "metadata": {
    "id": "snfGHM_8rAnv"
   },
   "source": [
    "##### Initialize testing environment"
   ]
  },
  {
   "cell_type": "code",
   "execution_count": null,
   "metadata": {},
   "outputs": [],
   "source": [
    "norms = env.normalizers"
   ]
  },
  {
   "cell_type": "code",
   "execution_count": null,
   "metadata": {},
   "outputs": [],
   "source": [
    "norms"
   ]
  },
  {
   "cell_type": "code",
   "execution_count": null,
   "metadata": {
    "colab": {
     "base_uri": "https://localhost:8080/"
    },
    "id": "S-xn7OWBrPP8",
    "outputId": "ac94c862-ca63-4ff6-c338-f4f65a4c91b2"
   },
   "outputs": [],
   "source": [
    "env = eval(f'{env_name}(test_dta)')\n",
    "env.seed(SEED)"
   ]
  },
  {
   "cell_type": "code",
   "execution_count": null,
   "metadata": {},
   "outputs": [],
   "source": [
    "env.normalizers"
   ]
  },
  {
   "cell_type": "code",
   "execution_count": null,
   "metadata": {},
   "outputs": [],
   "source": [
    "env.normalizers = norms"
   ]
  },
  {
   "cell_type": "code",
   "execution_count": null,
   "metadata": {},
   "outputs": [],
   "source": [
    "env.normalizers"
   ]
  },
  {
   "cell_type": "markdown",
   "metadata": {},
   "source": [
    "##### Load model"
   ]
  },
  {
   "cell_type": "code",
   "execution_count": null,
   "metadata": {},
   "outputs": [],
   "source": [
    "idx = 3000"
   ]
  },
  {
   "cell_type": "code",
   "execution_count": null,
   "metadata": {
    "colab": {
     "base_uri": "https://localhost:8080/"
    },
    "id": "zaaTcOGKsLyh",
    "outputId": "53a75b83-e251-496b-c21e-64c7d45fd8f0"
   },
   "outputs": [],
   "source": [
    "agent_test = Agent(\n",
    "    state_dim=agent_state_dim, \n",
    "    action_dim=action_dim, \n",
    "    max_action=max_action,\n",
    ")\n",
    "\n",
    "agent_test.load(\n",
    "    f'{file_name}_{idx}', \n",
    "    './models/all_td3',\n",
    ")\n"
   ]
  },
  {
   "cell_type": "code",
   "execution_count": null,
   "metadata": {},
   "outputs": [],
   "source": [
    "predictor_test = Predictor(\n",
    "    input_dim=pred_input, \n",
    "    output_dim=pred_output,\n",
    ")\n",
    "\n",
    "predictor_test.load(\n",
    "    f'{file_name}_{idx}', \n",
    "    './models/all_td3',\n",
    ")\n"
   ]
  },
  {
   "cell_type": "markdown",
   "metadata": {},
   "source": [
    "##### Testing:"
   ]
  },
  {
   "cell_type": "code",
   "execution_count": null,
   "metadata": {},
   "outputs": [],
   "source": [
    "positions = env.positions\n",
    "single_reward_trace = collections.defaultdict(list)"
   ]
  },
  {
   "cell_type": "code",
   "execution_count": null,
   "metadata": {},
   "outputs": [],
   "source": [
    "for episode in np.arange(1):\n",
    "\n",
    "    done = False\n",
    "    obs = env.reset()\n",
    "\n",
    "    while not done:\n",
    "            \n",
    "        agent_obs = predictor_test.predict(obs)\n",
    "\n",
    "        action = agent_test.select_action(agent_obs)\n",
    "        action_fmt = env.format_action(positions, action)\n",
    "\n",
    "        new_obs, reward, done, info = env.step(action_fmt)\n",
    "        \n",
    "        obs = new_obs\n",
    "\n",
    "        env.render()\n",
    "    \n",
    "        single_reward_trace['rewards'].append(reward)\n",
    "        single_reward_trace['actions'].append(action.squeeze())\n",
    "        single_reward_trace['net_worth_diff'].append(env.net_worth[-1]-env.net_worth_long[-1])\n",
    "        single_reward_trace['profit_diff'].append(env.agent_portfolio.profits[-1]-env.long_portfolio.profits[-1])\n",
    "    "
   ]
  },
  {
   "cell_type": "markdown",
   "metadata": {},
   "source": [
    "##### Plot reward trace"
   ]
  },
  {
   "cell_type": "code",
   "execution_count": null,
   "metadata": {},
   "outputs": [],
   "source": [
    "rewards = pd.Series(single_reward_trace['rewards']).rolling(window=25, center=True, min_periods=1).mean()\n",
    "\n",
    "plt.figure(figsize=(15,5))\n",
    "\n",
    "plt.plot(rewards.values, 'r', alpha=0.9)\n",
    "plt.plot(single_reward_trace['rewards'], 'b', alpha=0.5)\n",
    "\n",
    "plt.title('Rewards')\n",
    "plt.show()"
   ]
  },
  {
   "cell_type": "code",
   "execution_count": null,
   "metadata": {},
   "outputs": [],
   "source": [
    "net_worth = pd.Series(single_reward_trace['net_worth_diff']).rolling(window=25, center=True, min_periods=1).mean()\n",
    "\n",
    "plt.figure(figsize=(15,5))\n",
    "\n",
    "plt.plot(net_worth.values, 'r', alpha=0.9)\n",
    "plt.plot(single_reward_trace['net_worth_diff'], 'b', alpha=0.5)\n",
    "\n",
    "plt.title('Net-Worth Difference')\n",
    "plt.show()"
   ]
  },
  {
   "cell_type": "code",
   "execution_count": null,
   "metadata": {},
   "outputs": [],
   "source": [
    "profit = pd.Series(single_reward_trace['profit_diff']).rolling(window=25, center=True, min_periods=1).mean()\n",
    "\n",
    "plt.figure(figsize=(15,5))\n",
    "\n",
    "plt.plot(profit.values, 'r', alpha=0.9)\n",
    "plt.plot(single_reward_trace['profit_diff'], 'b', alpha=0.5)\n",
    "\n",
    "plt.title('Profit Difference')\n",
    "plt.show()"
   ]
  },
  {
   "cell_type": "code",
   "execution_count": null,
   "metadata": {},
   "outputs": [],
   "source": [
    "stock = 'aapl'\n",
    "\n",
    "plt.figure(figsize=(15,7))\n",
    "\n",
    "actions = np.array(single_reward_trace['actions'])\n",
    "for action, ticker in zip(actions[:, : env.n_stocks].T, positions):\n",
    "    a = 0.9 if ticker == stock else 0.1\n",
    "    plt.plot(action, label=ticker, alpha=a)\n",
    "    \n",
    "plt.legend()\n",
    "plt.show()"
   ]
  },
  {
   "cell_type": "markdown",
   "metadata": {},
   "source": [
    "---\n",
    "---\n",
    "---"
   ]
  },
  {
   "cell_type": "markdown",
   "metadata": {},
   "source": [
    "### Save:"
   ]
  },
  {
   "cell_type": "markdown",
   "metadata": {},
   "source": [
    "##### Save"
   ]
  },
  {
   "cell_type": "code",
   "execution_count": null,
   "metadata": {},
   "outputs": [],
   "source": [
    "idx = 3000"
   ]
  },
  {
   "cell_type": "code",
   "execution_count": null,
   "metadata": {},
   "outputs": [],
   "source": [
    "agent.load(\n",
    "    f'{file_name}_{idx}', \n",
    "    './models/all_td3',\n",
    ")\n",
    "\n",
    "predictor.load(\n",
    "    f'{file_name}_{idx}', \n",
    "    './models/all_td3',\n",
    ")\n"
   ]
  },
  {
   "cell_type": "code",
   "execution_count": null,
   "metadata": {},
   "outputs": [],
   "source": [
    "agent.save(\n",
    "    file_name, \n",
    "    './models',\n",
    ")\n",
    "\n",
    "predictor.save(\n",
    "    file_name, \n",
    "    './models',\n",
    ")\n"
   ]
  },
  {
   "cell_type": "code",
   "execution_count": null,
   "metadata": {},
   "outputs": [],
   "source": [
    "for item in os.listdir('./models/all_td3'):\n",
    "    if file_name in str(item):\n",
    "        os.remove(os.path.join('./models/all_td3', item))\n",
    "        \n",
    "print(file_name)"
   ]
  },
  {
   "cell_type": "markdown",
   "metadata": {},
   "source": [
    " "
   ]
  }
 ],
 "metadata": {
  "kernelspec": {
   "display_name": "Python 3",
   "language": "python",
   "name": "python3"
  },
  "language_info": {
   "codemirror_mode": {
    "name": "ipython",
    "version": 3
   },
   "file_extension": ".py",
   "mimetype": "text/x-python",
   "name": "python",
   "nbconvert_exporter": "python",
   "pygments_lexer": "ipython3",
   "version": "3.7.9"
  }
 },
 "nbformat": 4,
 "nbformat_minor": 4
}
